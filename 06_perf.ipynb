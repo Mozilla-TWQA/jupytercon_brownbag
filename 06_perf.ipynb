{
 "cells": [
  {
   "cell_type": "code",
   "execution_count": 5,
   "metadata": {
    "collapsed": true
   },
   "outputs": [],
   "source": [
    "% matplotlib notebook\n",
    "#% matplotlib inline\n",
    "from __future__ import print_function\n",
    "from ipywidgets import interact, interactive, fixed, interact_manual\n",
    "from ipywidgets import Layout, Button, Box, FloatText, Textarea, Dropdown, Label, IntSlider\n",
    "from IPython.display import display\n",
    "import numpy as np\n",
    "import pandas as pd\n",
    "import ipywidgets as widgets\n",
    "import matplotlib.pyplot as plt"
   ]
  },
  {
   "cell_type": "code",
   "execution_count": 6,
   "metadata": {
    "collapsed": true
   },
   "outputs": [],
   "source": [
    "import csv\n",
    "tmp_file = \"data/perf_828.csv\"\n",
    "with open(tmp_file) as fin, open(\"data/hasal.csv\", 'w') as fout:\n",
    "    o = csv.writer(fout)\n",
    "    o.writerow(['suite_name', '_', 'browser_type', 'machine_platform', 'date', 'time', 'value'])\n",
    "    for line in fin:\n",
    "        o.writerow(line.split())\n",
    "#os.remove(tmp_file)\n",
    "perf = pd.read_csv(\"data/hasal.csv\")"
   ]
  },
  {
   "cell_type": "code",
   "execution_count": 7,
   "metadata": {},
   "outputs": [],
   "source": [
    "date, date_int = np.unique(perf.date, return_inverse=True)\n",
    "case, case_int = np.unique(perf.suite_name, return_inverse=True)\n",
    "app = list()\n",
    "for each_case in case:\n",
    "    app.append(each_case.split('_')[0])\n",
    "app, app_int = np.unique(app, return_inverse=True)"
   ]
  },
  {
   "cell_type": "code",
   "execution_count": 8,
   "metadata": {
    "scrolled": false
   },
   "outputs": [],
   "source": [
    "form_item_layout = Layout(\n",
    "    display='flex',\n",
    "    flex_flow='row',\n",
    "    justify_content='space-between',\n",
    "    width='40%'\n",
    ")\n",
    "\n",
    "def plot_fig(title, x, y):\n",
    "    plt.clf()\n",
    "    plt.title(title)\n",
    "    plt.scatter(x, y)\n",
    "    plt.show()\n",
    "\n",
    "def initial_plot(case):\n",
    "    target_value = perf.loc[perf['suite_name'] == case, 'value']\n",
    "    target_date, target_date_int = np.unique(perf.loc[perf['suite_name'] == case, 'date'], return_inverse=True)\n",
    "    plot_fig(case, target_date_int, target_value)\n",
    "\n",
    "def on_change(change):\n",
    "    if change['type'] == 'change' and change['name'] == 'value':\n",
    "        target_case = change['new']\n",
    "        target_value = perf.loc[perf['suite_name'] == target_case, 'value']\n",
    "        target_date, target_date_int = np.unique(perf.loc[perf['suite_name'] == target_case, 'date'], return_inverse=True)\n",
    "        plot_fig(target_case, target_date_int, target_value)\n",
    "\n",
    "selected_case = Dropdown(options=list(case))\n",
    "selected_case.observe(on_change)\n",
    "Case = Box([Label(value='Case'), selected_case], layout=form_item_layout)"
   ]
  },
  {
   "cell_type": "code",
   "execution_count": 9,
   "metadata": {},
   "outputs": [
    {
     "data": {
      "application/vnd.jupyter.widget-view+json": {
       "model_id": "6da97177833d451ca2700eae29e00a4b",
       "version_major": 2,
       "version_minor": 0
      },
      "text/plain": [
       "A Jupyter Widget"
      ]
     },
     "metadata": {},
     "output_type": "display_data"
    },
    {
     "data": {
      "application/javascript": [
       "/* Put everything inside the global mpl namespace */\n",
       "window.mpl = {};\n",
       "\n",
       "\n",
       "mpl.get_websocket_type = function() {\n",
       "    if (typeof(WebSocket) !== 'undefined') {\n",
       "        return WebSocket;\n",
       "    } else if (typeof(MozWebSocket) !== 'undefined') {\n",
       "        return MozWebSocket;\n",
       "    } else {\n",
       "        alert('Your browser does not have WebSocket support.' +\n",
       "              'Please try Chrome, Safari or Firefox ≥ 6. ' +\n",
       "              'Firefox 4 and 5 are also supported but you ' +\n",
       "              'have to enable WebSockets in about:config.');\n",
       "    };\n",
       "}\n",
       "\n",
       "mpl.figure = function(figure_id, websocket, ondownload, parent_element) {\n",
       "    this.id = figure_id;\n",
       "\n",
       "    this.ws = websocket;\n",
       "\n",
       "    this.supports_binary = (this.ws.binaryType != undefined);\n",
       "\n",
       "    if (!this.supports_binary) {\n",
       "        var warnings = document.getElementById(\"mpl-warnings\");\n",
       "        if (warnings) {\n",
       "            warnings.style.display = 'block';\n",
       "            warnings.textContent = (\n",
       "                \"This browser does not support binary websocket messages. \" +\n",
       "                    \"Performance may be slow.\");\n",
       "        }\n",
       "    }\n",
       "\n",
       "    this.imageObj = new Image();\n",
       "\n",
       "    this.context = undefined;\n",
       "    this.message = undefined;\n",
       "    this.canvas = undefined;\n",
       "    this.rubberband_canvas = undefined;\n",
       "    this.rubberband_context = undefined;\n",
       "    this.format_dropdown = undefined;\n",
       "\n",
       "    this.image_mode = 'full';\n",
       "\n",
       "    this.root = $('<div/>');\n",
       "    this._root_extra_style(this.root)\n",
       "    this.root.attr('style', 'display: inline-block');\n",
       "\n",
       "    $(parent_element).append(this.root);\n",
       "\n",
       "    this._init_header(this);\n",
       "    this._init_canvas(this);\n",
       "    this._init_toolbar(this);\n",
       "\n",
       "    var fig = this;\n",
       "\n",
       "    this.waiting = false;\n",
       "\n",
       "    this.ws.onopen =  function () {\n",
       "            fig.send_message(\"supports_binary\", {value: fig.supports_binary});\n",
       "            fig.send_message(\"send_image_mode\", {});\n",
       "            if (mpl.ratio != 1) {\n",
       "                fig.send_message(\"set_dpi_ratio\", {'dpi_ratio': mpl.ratio});\n",
       "            }\n",
       "            fig.send_message(\"refresh\", {});\n",
       "        }\n",
       "\n",
       "    this.imageObj.onload = function() {\n",
       "            if (fig.image_mode == 'full') {\n",
       "                // Full images could contain transparency (where diff images\n",
       "                // almost always do), so we need to clear the canvas so that\n",
       "                // there is no ghosting.\n",
       "                fig.context.clearRect(0, 0, fig.canvas.width, fig.canvas.height);\n",
       "            }\n",
       "            fig.context.drawImage(fig.imageObj, 0, 0);\n",
       "        };\n",
       "\n",
       "    this.imageObj.onunload = function() {\n",
       "        this.ws.close();\n",
       "    }\n",
       "\n",
       "    this.ws.onmessage = this._make_on_message_function(this);\n",
       "\n",
       "    this.ondownload = ondownload;\n",
       "}\n",
       "\n",
       "mpl.figure.prototype._init_header = function() {\n",
       "    var titlebar = $(\n",
       "        '<div class=\"ui-dialog-titlebar ui-widget-header ui-corner-all ' +\n",
       "        'ui-helper-clearfix\"/>');\n",
       "    var titletext = $(\n",
       "        '<div class=\"ui-dialog-title\" style=\"width: 100%; ' +\n",
       "        'text-align: center; padding: 3px;\"/>');\n",
       "    titlebar.append(titletext)\n",
       "    this.root.append(titlebar);\n",
       "    this.header = titletext[0];\n",
       "}\n",
       "\n",
       "\n",
       "\n",
       "mpl.figure.prototype._canvas_extra_style = function(canvas_div) {\n",
       "\n",
       "}\n",
       "\n",
       "\n",
       "mpl.figure.prototype._root_extra_style = function(canvas_div) {\n",
       "\n",
       "}\n",
       "\n",
       "mpl.figure.prototype._init_canvas = function() {\n",
       "    var fig = this;\n",
       "\n",
       "    var canvas_div = $('<div/>');\n",
       "\n",
       "    canvas_div.attr('style', 'position: relative; clear: both; outline: 0');\n",
       "\n",
       "    function canvas_keyboard_event(event) {\n",
       "        return fig.key_event(event, event['data']);\n",
       "    }\n",
       "\n",
       "    canvas_div.keydown('key_press', canvas_keyboard_event);\n",
       "    canvas_div.keyup('key_release', canvas_keyboard_event);\n",
       "    this.canvas_div = canvas_div\n",
       "    this._canvas_extra_style(canvas_div)\n",
       "    this.root.append(canvas_div);\n",
       "\n",
       "    var canvas = $('<canvas/>');\n",
       "    canvas.addClass('mpl-canvas');\n",
       "    canvas.attr('style', \"left: 0; top: 0; z-index: 0; outline: 0\")\n",
       "\n",
       "    this.canvas = canvas[0];\n",
       "    this.context = canvas[0].getContext(\"2d\");\n",
       "\n",
       "    var backingStore = this.context.backingStorePixelRatio ||\n",
       "\tthis.context.webkitBackingStorePixelRatio ||\n",
       "\tthis.context.mozBackingStorePixelRatio ||\n",
       "\tthis.context.msBackingStorePixelRatio ||\n",
       "\tthis.context.oBackingStorePixelRatio ||\n",
       "\tthis.context.backingStorePixelRatio || 1;\n",
       "\n",
       "    mpl.ratio = (window.devicePixelRatio || 1) / backingStore;\n",
       "\n",
       "    var rubberband = $('<canvas/>');\n",
       "    rubberband.attr('style', \"position: absolute; left: 0; top: 0; z-index: 1;\")\n",
       "\n",
       "    var pass_mouse_events = true;\n",
       "\n",
       "    canvas_div.resizable({\n",
       "        start: function(event, ui) {\n",
       "            pass_mouse_events = false;\n",
       "        },\n",
       "        resize: function(event, ui) {\n",
       "            fig.request_resize(ui.size.width, ui.size.height);\n",
       "        },\n",
       "        stop: function(event, ui) {\n",
       "            pass_mouse_events = true;\n",
       "            fig.request_resize(ui.size.width, ui.size.height);\n",
       "        },\n",
       "    });\n",
       "\n",
       "    function mouse_event_fn(event) {\n",
       "        if (pass_mouse_events)\n",
       "            return fig.mouse_event(event, event['data']);\n",
       "    }\n",
       "\n",
       "    rubberband.mousedown('button_press', mouse_event_fn);\n",
       "    rubberband.mouseup('button_release', mouse_event_fn);\n",
       "    // Throttle sequential mouse events to 1 every 20ms.\n",
       "    rubberband.mousemove('motion_notify', mouse_event_fn);\n",
       "\n",
       "    rubberband.mouseenter('figure_enter', mouse_event_fn);\n",
       "    rubberband.mouseleave('figure_leave', mouse_event_fn);\n",
       "\n",
       "    canvas_div.on(\"wheel\", function (event) {\n",
       "        event = event.originalEvent;\n",
       "        event['data'] = 'scroll'\n",
       "        if (event.deltaY < 0) {\n",
       "            event.step = 1;\n",
       "        } else {\n",
       "            event.step = -1;\n",
       "        }\n",
       "        mouse_event_fn(event);\n",
       "    });\n",
       "\n",
       "    canvas_div.append(canvas);\n",
       "    canvas_div.append(rubberband);\n",
       "\n",
       "    this.rubberband = rubberband;\n",
       "    this.rubberband_canvas = rubberband[0];\n",
       "    this.rubberband_context = rubberband[0].getContext(\"2d\");\n",
       "    this.rubberband_context.strokeStyle = \"#000000\";\n",
       "\n",
       "    this._resize_canvas = function(width, height) {\n",
       "        // Keep the size of the canvas, canvas container, and rubber band\n",
       "        // canvas in synch.\n",
       "        canvas_div.css('width', width)\n",
       "        canvas_div.css('height', height)\n",
       "\n",
       "        canvas.attr('width', width * mpl.ratio);\n",
       "        canvas.attr('height', height * mpl.ratio);\n",
       "        canvas.attr('style', 'width: ' + width + 'px; height: ' + height + 'px;');\n",
       "\n",
       "        rubberband.attr('width', width);\n",
       "        rubberband.attr('height', height);\n",
       "    }\n",
       "\n",
       "    // Set the figure to an initial 600x600px, this will subsequently be updated\n",
       "    // upon first draw.\n",
       "    this._resize_canvas(600, 600);\n",
       "\n",
       "    // Disable right mouse context menu.\n",
       "    $(this.rubberband_canvas).bind(\"contextmenu\",function(e){\n",
       "        return false;\n",
       "    });\n",
       "\n",
       "    function set_focus () {\n",
       "        canvas.focus();\n",
       "        canvas_div.focus();\n",
       "    }\n",
       "\n",
       "    window.setTimeout(set_focus, 100);\n",
       "}\n",
       "\n",
       "mpl.figure.prototype._init_toolbar = function() {\n",
       "    var fig = this;\n",
       "\n",
       "    var nav_element = $('<div/>')\n",
       "    nav_element.attr('style', 'width: 100%');\n",
       "    this.root.append(nav_element);\n",
       "\n",
       "    // Define a callback function for later on.\n",
       "    function toolbar_event(event) {\n",
       "        return fig.toolbar_button_onclick(event['data']);\n",
       "    }\n",
       "    function toolbar_mouse_event(event) {\n",
       "        return fig.toolbar_button_onmouseover(event['data']);\n",
       "    }\n",
       "\n",
       "    for(var toolbar_ind in mpl.toolbar_items) {\n",
       "        var name = mpl.toolbar_items[toolbar_ind][0];\n",
       "        var tooltip = mpl.toolbar_items[toolbar_ind][1];\n",
       "        var image = mpl.toolbar_items[toolbar_ind][2];\n",
       "        var method_name = mpl.toolbar_items[toolbar_ind][3];\n",
       "\n",
       "        if (!name) {\n",
       "            // put a spacer in here.\n",
       "            continue;\n",
       "        }\n",
       "        var button = $('<button/>');\n",
       "        button.addClass('ui-button ui-widget ui-state-default ui-corner-all ' +\n",
       "                        'ui-button-icon-only');\n",
       "        button.attr('role', 'button');\n",
       "        button.attr('aria-disabled', 'false');\n",
       "        button.click(method_name, toolbar_event);\n",
       "        button.mouseover(tooltip, toolbar_mouse_event);\n",
       "\n",
       "        var icon_img = $('<span/>');\n",
       "        icon_img.addClass('ui-button-icon-primary ui-icon');\n",
       "        icon_img.addClass(image);\n",
       "        icon_img.addClass('ui-corner-all');\n",
       "\n",
       "        var tooltip_span = $('<span/>');\n",
       "        tooltip_span.addClass('ui-button-text');\n",
       "        tooltip_span.html(tooltip);\n",
       "\n",
       "        button.append(icon_img);\n",
       "        button.append(tooltip_span);\n",
       "\n",
       "        nav_element.append(button);\n",
       "    }\n",
       "\n",
       "    var fmt_picker_span = $('<span/>');\n",
       "\n",
       "    var fmt_picker = $('<select/>');\n",
       "    fmt_picker.addClass('mpl-toolbar-option ui-widget ui-widget-content');\n",
       "    fmt_picker_span.append(fmt_picker);\n",
       "    nav_element.append(fmt_picker_span);\n",
       "    this.format_dropdown = fmt_picker[0];\n",
       "\n",
       "    for (var ind in mpl.extensions) {\n",
       "        var fmt = mpl.extensions[ind];\n",
       "        var option = $(\n",
       "            '<option/>', {selected: fmt === mpl.default_extension}).html(fmt);\n",
       "        fmt_picker.append(option)\n",
       "    }\n",
       "\n",
       "    // Add hover states to the ui-buttons\n",
       "    $( \".ui-button\" ).hover(\n",
       "        function() { $(this).addClass(\"ui-state-hover\");},\n",
       "        function() { $(this).removeClass(\"ui-state-hover\");}\n",
       "    );\n",
       "\n",
       "    var status_bar = $('<span class=\"mpl-message\"/>');\n",
       "    nav_element.append(status_bar);\n",
       "    this.message = status_bar[0];\n",
       "}\n",
       "\n",
       "mpl.figure.prototype.request_resize = function(x_pixels, y_pixels) {\n",
       "    // Request matplotlib to resize the figure. Matplotlib will then trigger a resize in the client,\n",
       "    // which will in turn request a refresh of the image.\n",
       "    this.send_message('resize', {'width': x_pixels, 'height': y_pixels});\n",
       "}\n",
       "\n",
       "mpl.figure.prototype.send_message = function(type, properties) {\n",
       "    properties['type'] = type;\n",
       "    properties['figure_id'] = this.id;\n",
       "    this.ws.send(JSON.stringify(properties));\n",
       "}\n",
       "\n",
       "mpl.figure.prototype.send_draw_message = function() {\n",
       "    if (!this.waiting) {\n",
       "        this.waiting = true;\n",
       "        this.ws.send(JSON.stringify({type: \"draw\", figure_id: this.id}));\n",
       "    }\n",
       "}\n",
       "\n",
       "\n",
       "mpl.figure.prototype.handle_save = function(fig, msg) {\n",
       "    var format_dropdown = fig.format_dropdown;\n",
       "    var format = format_dropdown.options[format_dropdown.selectedIndex].value;\n",
       "    fig.ondownload(fig, format);\n",
       "}\n",
       "\n",
       "\n",
       "mpl.figure.prototype.handle_resize = function(fig, msg) {\n",
       "    var size = msg['size'];\n",
       "    if (size[0] != fig.canvas.width || size[1] != fig.canvas.height) {\n",
       "        fig._resize_canvas(size[0], size[1]);\n",
       "        fig.send_message(\"refresh\", {});\n",
       "    };\n",
       "}\n",
       "\n",
       "mpl.figure.prototype.handle_rubberband = function(fig, msg) {\n",
       "    var x0 = msg['x0'] / mpl.ratio;\n",
       "    var y0 = (fig.canvas.height - msg['y0']) / mpl.ratio;\n",
       "    var x1 = msg['x1'] / mpl.ratio;\n",
       "    var y1 = (fig.canvas.height - msg['y1']) / mpl.ratio;\n",
       "    x0 = Math.floor(x0) + 0.5;\n",
       "    y0 = Math.floor(y0) + 0.5;\n",
       "    x1 = Math.floor(x1) + 0.5;\n",
       "    y1 = Math.floor(y1) + 0.5;\n",
       "    var min_x = Math.min(x0, x1);\n",
       "    var min_y = Math.min(y0, y1);\n",
       "    var width = Math.abs(x1 - x0);\n",
       "    var height = Math.abs(y1 - y0);\n",
       "\n",
       "    fig.rubberband_context.clearRect(\n",
       "        0, 0, fig.canvas.width, fig.canvas.height);\n",
       "\n",
       "    fig.rubberband_context.strokeRect(min_x, min_y, width, height);\n",
       "}\n",
       "\n",
       "mpl.figure.prototype.handle_figure_label = function(fig, msg) {\n",
       "    // Updates the figure title.\n",
       "    fig.header.textContent = msg['label'];\n",
       "}\n",
       "\n",
       "mpl.figure.prototype.handle_cursor = function(fig, msg) {\n",
       "    var cursor = msg['cursor'];\n",
       "    switch(cursor)\n",
       "    {\n",
       "    case 0:\n",
       "        cursor = 'pointer';\n",
       "        break;\n",
       "    case 1:\n",
       "        cursor = 'default';\n",
       "        break;\n",
       "    case 2:\n",
       "        cursor = 'crosshair';\n",
       "        break;\n",
       "    case 3:\n",
       "        cursor = 'move';\n",
       "        break;\n",
       "    }\n",
       "    fig.rubberband_canvas.style.cursor = cursor;\n",
       "}\n",
       "\n",
       "mpl.figure.prototype.handle_message = function(fig, msg) {\n",
       "    fig.message.textContent = msg['message'];\n",
       "}\n",
       "\n",
       "mpl.figure.prototype.handle_draw = function(fig, msg) {\n",
       "    // Request the server to send over a new figure.\n",
       "    fig.send_draw_message();\n",
       "}\n",
       "\n",
       "mpl.figure.prototype.handle_image_mode = function(fig, msg) {\n",
       "    fig.image_mode = msg['mode'];\n",
       "}\n",
       "\n",
       "mpl.figure.prototype.updated_canvas_event = function() {\n",
       "    // Called whenever the canvas gets updated.\n",
       "    this.send_message(\"ack\", {});\n",
       "}\n",
       "\n",
       "// A function to construct a web socket function for onmessage handling.\n",
       "// Called in the figure constructor.\n",
       "mpl.figure.prototype._make_on_message_function = function(fig) {\n",
       "    return function socket_on_message(evt) {\n",
       "        if (evt.data instanceof Blob) {\n",
       "            /* FIXME: We get \"Resource interpreted as Image but\n",
       "             * transferred with MIME type text/plain:\" errors on\n",
       "             * Chrome.  But how to set the MIME type?  It doesn't seem\n",
       "             * to be part of the websocket stream */\n",
       "            evt.data.type = \"image/png\";\n",
       "\n",
       "            /* Free the memory for the previous frames */\n",
       "            if (fig.imageObj.src) {\n",
       "                (window.URL || window.webkitURL).revokeObjectURL(\n",
       "                    fig.imageObj.src);\n",
       "            }\n",
       "\n",
       "            fig.imageObj.src = (window.URL || window.webkitURL).createObjectURL(\n",
       "                evt.data);\n",
       "            fig.updated_canvas_event();\n",
       "            fig.waiting = false;\n",
       "            return;\n",
       "        }\n",
       "        else if (typeof evt.data === 'string' && evt.data.slice(0, 21) == \"data:image/png;base64\") {\n",
       "            fig.imageObj.src = evt.data;\n",
       "            fig.updated_canvas_event();\n",
       "            fig.waiting = false;\n",
       "            return;\n",
       "        }\n",
       "\n",
       "        var msg = JSON.parse(evt.data);\n",
       "        var msg_type = msg['type'];\n",
       "\n",
       "        // Call the  \"handle_{type}\" callback, which takes\n",
       "        // the figure and JSON message as its only arguments.\n",
       "        try {\n",
       "            var callback = fig[\"handle_\" + msg_type];\n",
       "        } catch (e) {\n",
       "            console.log(\"No handler for the '\" + msg_type + \"' message type: \", msg);\n",
       "            return;\n",
       "        }\n",
       "\n",
       "        if (callback) {\n",
       "            try {\n",
       "                // console.log(\"Handling '\" + msg_type + \"' message: \", msg);\n",
       "                callback(fig, msg);\n",
       "            } catch (e) {\n",
       "                console.log(\"Exception inside the 'handler_\" + msg_type + \"' callback:\", e, e.stack, msg);\n",
       "            }\n",
       "        }\n",
       "    };\n",
       "}\n",
       "\n",
       "// from http://stackoverflow.com/questions/1114465/getting-mouse-location-in-canvas\n",
       "mpl.findpos = function(e) {\n",
       "    //this section is from http://www.quirksmode.org/js/events_properties.html\n",
       "    var targ;\n",
       "    if (!e)\n",
       "        e = window.event;\n",
       "    if (e.target)\n",
       "        targ = e.target;\n",
       "    else if (e.srcElement)\n",
       "        targ = e.srcElement;\n",
       "    if (targ.nodeType == 3) // defeat Safari bug\n",
       "        targ = targ.parentNode;\n",
       "\n",
       "    // jQuery normalizes the pageX and pageY\n",
       "    // pageX,Y are the mouse positions relative to the document\n",
       "    // offset() returns the position of the element relative to the document\n",
       "    var x = e.pageX - $(targ).offset().left;\n",
       "    var y = e.pageY - $(targ).offset().top;\n",
       "\n",
       "    return {\"x\": x, \"y\": y};\n",
       "};\n",
       "\n",
       "/*\n",
       " * return a copy of an object with only non-object keys\n",
       " * we need this to avoid circular references\n",
       " * http://stackoverflow.com/a/24161582/3208463\n",
       " */\n",
       "function simpleKeys (original) {\n",
       "  return Object.keys(original).reduce(function (obj, key) {\n",
       "    if (typeof original[key] !== 'object')\n",
       "        obj[key] = original[key]\n",
       "    return obj;\n",
       "  }, {});\n",
       "}\n",
       "\n",
       "mpl.figure.prototype.mouse_event = function(event, name) {\n",
       "    var canvas_pos = mpl.findpos(event)\n",
       "\n",
       "    if (name === 'button_press')\n",
       "    {\n",
       "        this.canvas.focus();\n",
       "        this.canvas_div.focus();\n",
       "    }\n",
       "\n",
       "    var x = canvas_pos.x * mpl.ratio;\n",
       "    var y = canvas_pos.y * mpl.ratio;\n",
       "\n",
       "    this.send_message(name, {x: x, y: y, button: event.button,\n",
       "                             step: event.step,\n",
       "                             guiEvent: simpleKeys(event)});\n",
       "\n",
       "    /* This prevents the web browser from automatically changing to\n",
       "     * the text insertion cursor when the button is pressed.  We want\n",
       "     * to control all of the cursor setting manually through the\n",
       "     * 'cursor' event from matplotlib */\n",
       "    event.preventDefault();\n",
       "    return false;\n",
       "}\n",
       "\n",
       "mpl.figure.prototype._key_event_extra = function(event, name) {\n",
       "    // Handle any extra behaviour associated with a key event\n",
       "}\n",
       "\n",
       "mpl.figure.prototype.key_event = function(event, name) {\n",
       "\n",
       "    // Prevent repeat events\n",
       "    if (name == 'key_press')\n",
       "    {\n",
       "        if (event.which === this._key)\n",
       "            return;\n",
       "        else\n",
       "            this._key = event.which;\n",
       "    }\n",
       "    if (name == 'key_release')\n",
       "        this._key = null;\n",
       "\n",
       "    var value = '';\n",
       "    if (event.ctrlKey && event.which != 17)\n",
       "        value += \"ctrl+\";\n",
       "    if (event.altKey && event.which != 18)\n",
       "        value += \"alt+\";\n",
       "    if (event.shiftKey && event.which != 16)\n",
       "        value += \"shift+\";\n",
       "\n",
       "    value += 'k';\n",
       "    value += event.which.toString();\n",
       "\n",
       "    this._key_event_extra(event, name);\n",
       "\n",
       "    this.send_message(name, {key: value,\n",
       "                             guiEvent: simpleKeys(event)});\n",
       "    return false;\n",
       "}\n",
       "\n",
       "mpl.figure.prototype.toolbar_button_onclick = function(name) {\n",
       "    if (name == 'download') {\n",
       "        this.handle_save(this, null);\n",
       "    } else {\n",
       "        this.send_message(\"toolbar_button\", {name: name});\n",
       "    }\n",
       "};\n",
       "\n",
       "mpl.figure.prototype.toolbar_button_onmouseover = function(tooltip) {\n",
       "    this.message.textContent = tooltip;\n",
       "};\n",
       "mpl.toolbar_items = [[\"Home\", \"Reset original view\", \"fa fa-home icon-home\", \"home\"], [\"Back\", \"Back to  previous view\", \"fa fa-arrow-left icon-arrow-left\", \"back\"], [\"Forward\", \"Forward to next view\", \"fa fa-arrow-right icon-arrow-right\", \"forward\"], [\"\", \"\", \"\", \"\"], [\"Pan\", \"Pan axes with left mouse, zoom with right\", \"fa fa-arrows icon-move\", \"pan\"], [\"Zoom\", \"Zoom to rectangle\", \"fa fa-square-o icon-check-empty\", \"zoom\"], [\"\", \"\", \"\", \"\"], [\"Download\", \"Download plot\", \"fa fa-floppy-o icon-save\", \"download\"]];\n",
       "\n",
       "mpl.extensions = [\"eps\", \"pdf\", \"png\", \"ps\", \"raw\", \"svg\"];\n",
       "\n",
       "mpl.default_extension = \"png\";var comm_websocket_adapter = function(comm) {\n",
       "    // Create a \"websocket\"-like object which calls the given IPython comm\n",
       "    // object with the appropriate methods. Currently this is a non binary\n",
       "    // socket, so there is still some room for performance tuning.\n",
       "    var ws = {};\n",
       "\n",
       "    ws.close = function() {\n",
       "        comm.close()\n",
       "    };\n",
       "    ws.send = function(m) {\n",
       "        //console.log('sending', m);\n",
       "        comm.send(m);\n",
       "    };\n",
       "    // Register the callback with on_msg.\n",
       "    comm.on_msg(function(msg) {\n",
       "        //console.log('receiving', msg['content']['data'], msg);\n",
       "        // Pass the mpl event to the overriden (by mpl) onmessage function.\n",
       "        ws.onmessage(msg['content']['data'])\n",
       "    });\n",
       "    return ws;\n",
       "}\n",
       "\n",
       "mpl.mpl_figure_comm = function(comm, msg) {\n",
       "    // This is the function which gets called when the mpl process\n",
       "    // starts-up an IPython Comm through the \"matplotlib\" channel.\n",
       "\n",
       "    var id = msg.content.data.id;\n",
       "    // Get hold of the div created by the display call when the Comm\n",
       "    // socket was opened in Python.\n",
       "    var element = $(\"#\" + id);\n",
       "    var ws_proxy = comm_websocket_adapter(comm)\n",
       "\n",
       "    function ondownload(figure, format) {\n",
       "        window.open(figure.imageObj.src);\n",
       "    }\n",
       "\n",
       "    var fig = new mpl.figure(id, ws_proxy,\n",
       "                           ondownload,\n",
       "                           element.get(0));\n",
       "\n",
       "    // Call onopen now - mpl needs it, as it is assuming we've passed it a real\n",
       "    // web socket which is closed, not our websocket->open comm proxy.\n",
       "    ws_proxy.onopen();\n",
       "\n",
       "    fig.parent_element = element.get(0);\n",
       "    fig.cell_info = mpl.find_output_cell(\"<div id='\" + id + \"'></div>\");\n",
       "    if (!fig.cell_info) {\n",
       "        console.error(\"Failed to find cell for figure\", id, fig);\n",
       "        return;\n",
       "    }\n",
       "\n",
       "    var output_index = fig.cell_info[2]\n",
       "    var cell = fig.cell_info[0];\n",
       "\n",
       "};\n",
       "\n",
       "mpl.figure.prototype.handle_close = function(fig, msg) {\n",
       "    var width = fig.canvas.width/mpl.ratio\n",
       "    fig.root.unbind('remove')\n",
       "\n",
       "    // Update the output cell to use the data from the current canvas.\n",
       "    fig.push_to_output();\n",
       "    var dataURL = fig.canvas.toDataURL();\n",
       "    // Re-enable the keyboard manager in IPython - without this line, in FF,\n",
       "    // the notebook keyboard shortcuts fail.\n",
       "    IPython.keyboard_manager.enable()\n",
       "    $(fig.parent_element).html('<img src=\"' + dataURL + '\" width=\"' + width + '\">');\n",
       "    fig.close_ws(fig, msg);\n",
       "}\n",
       "\n",
       "mpl.figure.prototype.close_ws = function(fig, msg){\n",
       "    fig.send_message('closing', msg);\n",
       "    // fig.ws.close()\n",
       "}\n",
       "\n",
       "mpl.figure.prototype.push_to_output = function(remove_interactive) {\n",
       "    // Turn the data on the canvas into data in the output cell.\n",
       "    var width = this.canvas.width/mpl.ratio\n",
       "    var dataURL = this.canvas.toDataURL();\n",
       "    this.cell_info[1]['text/html'] = '<img src=\"' + dataURL + '\" width=\"' + width + '\">';\n",
       "}\n",
       "\n",
       "mpl.figure.prototype.updated_canvas_event = function() {\n",
       "    // Tell IPython that the notebook contents must change.\n",
       "    IPython.notebook.set_dirty(true);\n",
       "    this.send_message(\"ack\", {});\n",
       "    var fig = this;\n",
       "    // Wait a second, then push the new image to the DOM so\n",
       "    // that it is saved nicely (might be nice to debounce this).\n",
       "    setTimeout(function () { fig.push_to_output() }, 1000);\n",
       "}\n",
       "\n",
       "mpl.figure.prototype._init_toolbar = function() {\n",
       "    var fig = this;\n",
       "\n",
       "    var nav_element = $('<div/>')\n",
       "    nav_element.attr('style', 'width: 100%');\n",
       "    this.root.append(nav_element);\n",
       "\n",
       "    // Define a callback function for later on.\n",
       "    function toolbar_event(event) {\n",
       "        return fig.toolbar_button_onclick(event['data']);\n",
       "    }\n",
       "    function toolbar_mouse_event(event) {\n",
       "        return fig.toolbar_button_onmouseover(event['data']);\n",
       "    }\n",
       "\n",
       "    for(var toolbar_ind in mpl.toolbar_items){\n",
       "        var name = mpl.toolbar_items[toolbar_ind][0];\n",
       "        var tooltip = mpl.toolbar_items[toolbar_ind][1];\n",
       "        var image = mpl.toolbar_items[toolbar_ind][2];\n",
       "        var method_name = mpl.toolbar_items[toolbar_ind][3];\n",
       "\n",
       "        if (!name) { continue; };\n",
       "\n",
       "        var button = $('<button class=\"btn btn-default\" href=\"#\" title=\"' + name + '\"><i class=\"fa ' + image + ' fa-lg\"></i></button>');\n",
       "        button.click(method_name, toolbar_event);\n",
       "        button.mouseover(tooltip, toolbar_mouse_event);\n",
       "        nav_element.append(button);\n",
       "    }\n",
       "\n",
       "    // Add the status bar.\n",
       "    var status_bar = $('<span class=\"mpl-message\" style=\"text-align:right; float: right;\"/>');\n",
       "    nav_element.append(status_bar);\n",
       "    this.message = status_bar[0];\n",
       "\n",
       "    // Add the close button to the window.\n",
       "    var buttongrp = $('<div class=\"btn-group inline pull-right\"></div>');\n",
       "    var button = $('<button class=\"btn btn-mini btn-primary\" href=\"#\" title=\"Stop Interaction\"><i class=\"fa fa-power-off icon-remove icon-large\"></i></button>');\n",
       "    button.click(function (evt) { fig.handle_close(fig, {}); } );\n",
       "    button.mouseover('Stop Interaction', toolbar_mouse_event);\n",
       "    buttongrp.append(button);\n",
       "    var titlebar = this.root.find($('.ui-dialog-titlebar'));\n",
       "    titlebar.prepend(buttongrp);\n",
       "}\n",
       "\n",
       "mpl.figure.prototype._root_extra_style = function(el){\n",
       "    var fig = this\n",
       "    el.on(\"remove\", function(){\n",
       "\tfig.close_ws(fig, {});\n",
       "    });\n",
       "}\n",
       "\n",
       "mpl.figure.prototype._canvas_extra_style = function(el){\n",
       "    // this is important to make the div 'focusable\n",
       "    el.attr('tabindex', 0)\n",
       "    // reach out to IPython and tell the keyboard manager to turn it's self\n",
       "    // off when our div gets focus\n",
       "\n",
       "    // location in version 3\n",
       "    if (IPython.notebook.keyboard_manager) {\n",
       "        IPython.notebook.keyboard_manager.register_events(el);\n",
       "    }\n",
       "    else {\n",
       "        // location in version 2\n",
       "        IPython.keyboard_manager.register_events(el);\n",
       "    }\n",
       "\n",
       "}\n",
       "\n",
       "mpl.figure.prototype._key_event_extra = function(event, name) {\n",
       "    var manager = IPython.notebook.keyboard_manager;\n",
       "    if (!manager)\n",
       "        manager = IPython.keyboard_manager;\n",
       "\n",
       "    // Check for shift+enter\n",
       "    if (event.shiftKey && event.which == 13) {\n",
       "        this.canvas_div.blur();\n",
       "        // select the cell after this one\n",
       "        var index = IPython.notebook.find_cell_index(this.cell_info[0]);\n",
       "        IPython.notebook.select(index + 1);\n",
       "    }\n",
       "}\n",
       "\n",
       "mpl.figure.prototype.handle_save = function(fig, msg) {\n",
       "    fig.ondownload(fig, null);\n",
       "}\n",
       "\n",
       "\n",
       "mpl.find_output_cell = function(html_output) {\n",
       "    // Return the cell and output element which can be found *uniquely* in the notebook.\n",
       "    // Note - this is a bit hacky, but it is done because the \"notebook_saving.Notebook\"\n",
       "    // IPython event is triggered only after the cells have been serialised, which for\n",
       "    // our purposes (turning an active figure into a static one), is too late.\n",
       "    var cells = IPython.notebook.get_cells();\n",
       "    var ncells = cells.length;\n",
       "    for (var i=0; i<ncells; i++) {\n",
       "        var cell = cells[i];\n",
       "        if (cell.cell_type === 'code'){\n",
       "            for (var j=0; j<cell.output_area.outputs.length; j++) {\n",
       "                var data = cell.output_area.outputs[j];\n",
       "                if (data.data) {\n",
       "                    // IPython >= 3 moved mimebundle to data attribute of output\n",
       "                    data = data.data;\n",
       "                }\n",
       "                if (data['text/html'] == html_output) {\n",
       "                    return [cell, data, j];\n",
       "                }\n",
       "            }\n",
       "        }\n",
       "    }\n",
       "}\n",
       "\n",
       "// Register the function which deals with the matplotlib target/channel.\n",
       "// The kernel may be null if the page has been refreshed.\n",
       "if (IPython.notebook.kernel != null) {\n",
       "    IPython.notebook.kernel.comm_manager.register_target('matplotlib', mpl.mpl_figure_comm);\n",
       "}\n"
      ],
      "text/plain": [
       "<IPython.core.display.Javascript object>"
      ]
     },
     "metadata": {},
     "output_type": "display_data"
    },
    {
     "data": {
      "text/html": [
       "<img src=\"data:image/png;base64,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\" width=\"640\">"
      ],
      "text/plain": [
       "<IPython.core.display.HTML object>"
      ]
     },
     "metadata": {},
     "output_type": "display_data"
    }
   ],
   "source": [
    "display(Case)\n",
    "initial_plot(selected_case.value)"
   ]
  },
  {
   "cell_type": "code",
   "execution_count": null,
   "metadata": {
    "collapsed": true
   },
   "outputs": [],
   "source": []
  }
 ],
 "metadata": {
  "celltoolbar": "Raw Cell Format",
  "kernelspec": {
   "display_name": "Python 3",
   "language": "python",
   "name": "python3"
  },
  "language_info": {
   "codemirror_mode": {
    "name": "ipython",
    "version": 2
   },
   "file_extension": ".py",
   "mimetype": "text/x-python",
   "name": "python",
   "nbconvert_exporter": "python",
   "pygments_lexer": "ipython2",
   "version": "2.7.13"
  },
  "widgets": {
   "application/vnd.jupyter.widget-state+json": {
    "state": {
     "12eba4bdfaef46f4859f715f65596983": {
      "model_module_version": "^2.1.4",
      "state": {
       "description": "x",
       "value": "<table style=\"width:100%\">\n                <thead>\n                    <tr>\n                        <th colspan=\"2\">\n                        Could not create model:\n                        </th>\n                    </tr>\n                </thead>\n                <tbody>\n                    <tr>\n                        <td>Model name</td>\n                        <td> undefined </td>\n                    </tr>\n                    <tr>\n                        <td>Model module</td>\n                        <td> undefined </td>\n                    </tr>\n                    <tr>\n                        <td>Model module version</td>\n                        <td> undefined </td>\n                    </tr>\n                <tbody>\n                <tfoot>\n                    <tr>\n                        <th colspan=\"2\">\n                        Class undefined not found in registry \n                        </th>\n                    </tr>\n                </tfoot>\n                </table>"
      }
     },
     "1d76c009b3b04b718ae6638de2a4fe52": {
      "model_module_version": "^2.1.4",
      "state": {
       "value": "<table style=\"width:100%\">\n                <thead>\n                    <tr>\n                        <th colspan=\"2\">\n                        Could not create model:\n                        </th>\n                    </tr>\n                </thead>\n                <tbody>\n                    <tr>\n                        <td>Model name</td>\n                        <td> undefined </td>\n                    </tr>\n                    <tr>\n                        <td>Model module</td>\n                        <td> undefined </td>\n                    </tr>\n                    <tr>\n                        <td>Model module version</td>\n                        <td> undefined </td>\n                    </tr>\n                <tbody>\n                <tfoot>\n                    <tr>\n                        <th colspan=\"2\">\n                        Class undefined not found in registry \n                        </th>\n                    </tr>\n                </tfoot>\n                </table>"
      }
     },
     "24bc3c8141cb4aae8e2e11fd2e507372": {
      "model_module_version": "^2.1.4",
      "state": {
       "value": "<table style=\"width:100%\">\n                <thead>\n                    <tr>\n                        <th colspan=\"2\">\n                        Could not create model:\n                        </th>\n                    </tr>\n                </thead>\n                <tbody>\n                    <tr>\n                        <td>Model name</td>\n                        <td> LayoutModel </td>\n                    </tr>\n                    <tr>\n                        <td>Model module</td>\n                        <td> @jupyter-widgets/base </td>\n                    </tr>\n                    <tr>\n                        <td>Model module version</td>\n                        <td> 1.0.0 </td>\n                    </tr>\n                <tbody>\n                <tfoot>\n                    <tr>\n                        <th colspan=\"2\">\n                        Script error for \"@jupyter-widgets/base\"\nhttp://requirejs.org/docs/errors.html#scripterror\n                        </th>\n                    </tr>\n                </tfoot>\n                </table>"
      }
     },
     "37601256e3774fcbbcde20f200ffbdd6": {
      "model_module_version": "^2.1.4",
      "state": {
       "msg_id": "",
       "value": "<table style=\"width:100%\">\n                <thead>\n                    <tr>\n                        <th colspan=\"2\">\n                        Could not create model:\n                        </th>\n                    </tr>\n                </thead>\n                <tbody>\n                    <tr>\n                        <td>Model name</td>\n                        <td> undefined </td>\n                    </tr>\n                    <tr>\n                        <td>Model module</td>\n                        <td> undefined </td>\n                    </tr>\n                    <tr>\n                        <td>Model module version</td>\n                        <td> undefined </td>\n                    </tr>\n                <tbody>\n                <tfoot>\n                    <tr>\n                        <th colspan=\"2\">\n                        Class undefined not found in registry \n                        </th>\n                    </tr>\n                </tfoot>\n                </table>"
      }
     },
     "40be9add9e2547e28d50e1e5b08f1120": {
      "model_module_version": "^2.1.4",
      "state": {
       "description": "y",
       "value": "<table style=\"width:100%\">\n                <thead>\n                    <tr>\n                        <th colspan=\"2\">\n                        Could not create model:\n                        </th>\n                    </tr>\n                </thead>\n                <tbody>\n                    <tr>\n                        <td>Model name</td>\n                        <td> undefined </td>\n                    </tr>\n                    <tr>\n                        <td>Model module</td>\n                        <td> undefined </td>\n                    </tr>\n                    <tr>\n                        <td>Model module version</td>\n                        <td> undefined </td>\n                    </tr>\n                <tbody>\n                <tfoot>\n                    <tr>\n                        <th colspan=\"2\">\n                        Class undefined not found in registry \n                        </th>\n                    </tr>\n                </tfoot>\n                </table>"
      }
     },
     "4f934c8e38ef4305a5a77c680411907c": {
      "model_module_version": "^2.1.4",
      "state": {
       "value": "<table style=\"width:100%\">\n                <thead>\n                    <tr>\n                        <th colspan=\"2\">\n                        Could not create model:\n                        </th>\n                    </tr>\n                </thead>\n                <tbody>\n                    <tr>\n                        <td>Model name</td>\n                        <td> undefined </td>\n                    </tr>\n                    <tr>\n                        <td>Model module</td>\n                        <td> undefined </td>\n                    </tr>\n                    <tr>\n                        <td>Model module version</td>\n                        <td> undefined </td>\n                    </tr>\n                <tbody>\n                <tfoot>\n                    <tr>\n                        <th colspan=\"2\">\n                        Class undefined not found in registry \n                        </th>\n                    </tr>\n                </tfoot>\n                </table>"
      }
     },
     "57776210dc374a4c929515ecdf3098fd": {
      "model_module_version": "^2.1.4",
      "state": {
       "value": "<table style=\"width:100%\">\n                <thead>\n                    <tr>\n                        <th colspan=\"2\">\n                        Could not create model:\n                        </th>\n                    </tr>\n                </thead>\n                <tbody>\n                    <tr>\n                        <td>Model name</td>\n                        <td> undefined </td>\n                    </tr>\n                    <tr>\n                        <td>Model module</td>\n                        <td> undefined </td>\n                    </tr>\n                    <tr>\n                        <td>Model module version</td>\n                        <td> undefined </td>\n                    </tr>\n                <tbody>\n                <tfoot>\n                    <tr>\n                        <th colspan=\"2\">\n                        Class undefined not found in registry \n                        </th>\n                    </tr>\n                </tfoot>\n                </table>"
      }
     },
     "5bbefad5200c4257a930ae4bf7ed2ebf": {
      "model_module_version": "^2.1.4",
      "state": {
       "value": "<table style=\"width:100%\">\n                <thead>\n                    <tr>\n                        <th colspan=\"2\">\n                        Could not create model:\n                        </th>\n                    </tr>\n                </thead>\n                <tbody>\n                    <tr>\n                        <td>Model name</td>\n                        <td> undefined </td>\n                    </tr>\n                    <tr>\n                        <td>Model module</td>\n                        <td> undefined </td>\n                    </tr>\n                    <tr>\n                        <td>Model module version</td>\n                        <td> undefined </td>\n                    </tr>\n                <tbody>\n                <tfoot>\n                    <tr>\n                        <th colspan=\"2\">\n                        Class undefined not found in registry \n                        </th>\n                    </tr>\n                </tfoot>\n                </table>"
      }
     },
     "5d967fc7ccf54762b9b9badfbf2a4008": {
      "model_module_version": "^2.1.4",
      "state": {
       "value": "<table style=\"width:100%\">\n                <thead>\n                    <tr>\n                        <th colspan=\"2\">\n                        Could not create model:\n                        </th>\n                    </tr>\n                </thead>\n                <tbody>\n                    <tr>\n                        <td>Model name</td>\n                        <td> undefined </td>\n                    </tr>\n                    <tr>\n                        <td>Model module</td>\n                        <td> undefined </td>\n                    </tr>\n                    <tr>\n                        <td>Model module version</td>\n                        <td> undefined </td>\n                    </tr>\n                <tbody>\n                <tfoot>\n                    <tr>\n                        <th colspan=\"2\">\n                        Class undefined not found in registry \n                        </th>\n                    </tr>\n                </tfoot>\n                </table>"
      }
     },
     "66464c24861b4fc6b3095585d4bdc825": {
      "model_module_version": "^2.1.4",
      "state": {
       "value": "<table style=\"width:100%\">\n                <thead>\n                    <tr>\n                        <th colspan=\"2\">\n                        Could not create model:\n                        </th>\n                    </tr>\n                </thead>\n                <tbody>\n                    <tr>\n                        <td>Model name</td>\n                        <td> undefined </td>\n                    </tr>\n                    <tr>\n                        <td>Model module</td>\n                        <td> undefined </td>\n                    </tr>\n                    <tr>\n                        <td>Model module version</td>\n                        <td> undefined </td>\n                    </tr>\n                <tbody>\n                <tfoot>\n                    <tr>\n                        <th colspan=\"2\">\n                        Class undefined not found in registry \n                        </th>\n                    </tr>\n                </tfoot>\n                </table>"
      }
     },
     "67d2883a62364c04bc48bec90fc448ec": {
      "model_module_version": "^2.1.4",
      "state": {
       "value": "<table style=\"width:100%\">\n                <thead>\n                    <tr>\n                        <th colspan=\"2\">\n                        Could not create model:\n                        </th>\n                    </tr>\n                </thead>\n                <tbody>\n                    <tr>\n                        <td>Model name</td>\n                        <td> undefined </td>\n                    </tr>\n                    <tr>\n                        <td>Model module</td>\n                        <td> undefined </td>\n                    </tr>\n                    <tr>\n                        <td>Model module version</td>\n                        <td> undefined </td>\n                    </tr>\n                <tbody>\n                <tfoot>\n                    <tr>\n                        <th colspan=\"2\">\n                        Class undefined not found in registry \n                        </th>\n                    </tr>\n                </tfoot>\n                </table>"
      }
     },
     "6bc9be1d9711414e83c047222c9515ad": {
      "model_module_version": "^2.1.4",
      "state": {
       "msg_id": "",
       "value": "<table style=\"width:100%\">\n                <thead>\n                    <tr>\n                        <th colspan=\"2\">\n                        Could not create model:\n                        </th>\n                    </tr>\n                </thead>\n                <tbody>\n                    <tr>\n                        <td>Model name</td>\n                        <td> undefined </td>\n                    </tr>\n                    <tr>\n                        <td>Model module</td>\n                        <td> undefined </td>\n                    </tr>\n                    <tr>\n                        <td>Model module version</td>\n                        <td> undefined </td>\n                    </tr>\n                <tbody>\n                <tfoot>\n                    <tr>\n                        <th colspan=\"2\">\n                        Class undefined not found in registry \n                        </th>\n                    </tr>\n                </tfoot>\n                </table>"
      }
     },
     "7140260f1ccc47919b1b801216af9adf": {
      "model_module_version": "^2.1.4",
      "state": {
       "msg_id": "",
       "value": "<table style=\"width:100%\">\n                <thead>\n                    <tr>\n                        <th colspan=\"2\">\n                        Could not create model:\n                        </th>\n                    </tr>\n                </thead>\n                <tbody>\n                    <tr>\n                        <td>Model name</td>\n                        <td> undefined </td>\n                    </tr>\n                    <tr>\n                        <td>Model module</td>\n                        <td> undefined </td>\n                    </tr>\n                    <tr>\n                        <td>Model module version</td>\n                        <td> undefined </td>\n                    </tr>\n                <tbody>\n                <tfoot>\n                    <tr>\n                        <th colspan=\"2\">\n                        Class undefined not found in registry \n                        </th>\n                    </tr>\n                </tfoot>\n                </table>"
      }
     },
     "72ecf6621222498f9005234c36c13125": {
      "model_module_version": "^2.1.4",
      "state": {
       "description": "x",
       "value": "<table style=\"width:100%\">\n                <thead>\n                    <tr>\n                        <th colspan=\"2\">\n                        Could not create model:\n                        </th>\n                    </tr>\n                </thead>\n                <tbody>\n                    <tr>\n                        <td>Model name</td>\n                        <td> undefined </td>\n                    </tr>\n                    <tr>\n                        <td>Model module</td>\n                        <td> undefined </td>\n                    </tr>\n                    <tr>\n                        <td>Model module version</td>\n                        <td> undefined </td>\n                    </tr>\n                <tbody>\n                <tfoot>\n                    <tr>\n                        <th colspan=\"2\">\n                        Class undefined not found in registry \n                        </th>\n                    </tr>\n                </tfoot>\n                </table>"
      }
     },
     "7393992187ab4e27bc473da8579e474a": {
      "model_module_version": "^2.1.4",
      "state": {
       "value": "<table style=\"width:100%\">\n                <thead>\n                    <tr>\n                        <th colspan=\"2\">\n                        Could not create model:\n                        </th>\n                    </tr>\n                </thead>\n                <tbody>\n                    <tr>\n                        <td>Model name</td>\n                        <td> LayoutModel </td>\n                    </tr>\n                    <tr>\n                        <td>Model module</td>\n                        <td> @jupyter-widgets/base </td>\n                    </tr>\n                    <tr>\n                        <td>Model module version</td>\n                        <td> 1.0.0 </td>\n                    </tr>\n                <tbody>\n                <tfoot>\n                    <tr>\n                        <th colspan=\"2\">\n                        Script error for \"@jupyter-widgets/base\"\nhttp://requirejs.org/docs/errors.html#scripterror\n                        </th>\n                    </tr>\n                </tfoot>\n                </table>"
      }
     },
     "75aa527c770d4280a2af56a8d6fb99af": {
      "model_module_version": "^2.1.4",
      "state": {
       "children": [
        "IPY_MODEL_8abae633ad1f481e82c38ddda141475a",
        "IPY_MODEL_40be9add9e2547e28d50e1e5b08f1120",
        "IPY_MODEL_6bc9be1d9711414e83c047222c9515ad"
       ],
       "value": "<table style=\"width:100%\">\n                <thead>\n                    <tr>\n                        <th colspan=\"2\">\n                        Could not create model:\n                        </th>\n                    </tr>\n                </thead>\n                <tbody>\n                    <tr>\n                        <td>Model name</td>\n                        <td> undefined </td>\n                    </tr>\n                    <tr>\n                        <td>Model module</td>\n                        <td> undefined </td>\n                    </tr>\n                    <tr>\n                        <td>Model module version</td>\n                        <td> undefined </td>\n                    </tr>\n                <tbody>\n                <tfoot>\n                    <tr>\n                        <th colspan=\"2\">\n                        Class undefined not found in registry \n                        </th>\n                    </tr>\n                </tfoot>\n                </table>"
      }
     },
     "77292eec0fb548248d597957519808a3": {
      "model_module_version": "^2.1.4",
      "state": {
       "value": "<table style=\"width:100%\">\n                <thead>\n                    <tr>\n                        <th colspan=\"2\">\n                        Could not create model:\n                        </th>\n                    </tr>\n                </thead>\n                <tbody>\n                    <tr>\n                        <td>Model name</td>\n                        <td> undefined </td>\n                    </tr>\n                    <tr>\n                        <td>Model module</td>\n                        <td> undefined </td>\n                    </tr>\n                    <tr>\n                        <td>Model module version</td>\n                        <td> undefined </td>\n                    </tr>\n                <tbody>\n                <tfoot>\n                    <tr>\n                        <th colspan=\"2\">\n                        Class undefined not found in registry \n                        </th>\n                    </tr>\n                </tfoot>\n                </table>"
      }
     },
     "8026de389dc64b01ba2b570ab04cc420": {
      "model_module_version": "^2.1.4",
      "state": {
       "value": "<table style=\"width:100%\">\n                <thead>\n                    <tr>\n                        <th colspan=\"2\">\n                        Could not create model:\n                        </th>\n                    </tr>\n                </thead>\n                <tbody>\n                    <tr>\n                        <td>Model name</td>\n                        <td> undefined </td>\n                    </tr>\n                    <tr>\n                        <td>Model module</td>\n                        <td> undefined </td>\n                    </tr>\n                    <tr>\n                        <td>Model module version</td>\n                        <td> undefined </td>\n                    </tr>\n                <tbody>\n                <tfoot>\n                    <tr>\n                        <th colspan=\"2\">\n                        Class undefined not found in registry \n                        </th>\n                    </tr>\n                </tfoot>\n                </table>"
      }
     },
     "819845d2c13f4fcba2b0109a6ab73499": {
      "model_module_version": "^2.1.4",
      "state": {
       "value": "<table style=\"width:100%\">\n                <thead>\n                    <tr>\n                        <th colspan=\"2\">\n                        Could not create model:\n                        </th>\n                    </tr>\n                </thead>\n                <tbody>\n                    <tr>\n                        <td>Model name</td>\n                        <td> undefined </td>\n                    </tr>\n                    <tr>\n                        <td>Model module</td>\n                        <td> undefined </td>\n                    </tr>\n                    <tr>\n                        <td>Model module version</td>\n                        <td> undefined </td>\n                    </tr>\n                <tbody>\n                <tfoot>\n                    <tr>\n                        <th colspan=\"2\">\n                        Class undefined not found in registry \n                        </th>\n                    </tr>\n                </tfoot>\n                </table>"
      }
     },
     "825fd379973a4dfba76ee973ab1be734": {
      "model_module_version": "^2.1.4",
      "state": {
       "children": [
        "IPY_MODEL_12eba4bdfaef46f4859f715f65596983",
        "IPY_MODEL_b7e5568f9b114becab6134ff6af09c26",
        "IPY_MODEL_7140260f1ccc47919b1b801216af9adf"
       ],
       "value": "<table style=\"width:100%\">\n                <thead>\n                    <tr>\n                        <th colspan=\"2\">\n                        Could not create model:\n                        </th>\n                    </tr>\n                </thead>\n                <tbody>\n                    <tr>\n                        <td>Model name</td>\n                        <td> undefined </td>\n                    </tr>\n                    <tr>\n                        <td>Model module</td>\n                        <td> undefined </td>\n                    </tr>\n                    <tr>\n                        <td>Model module version</td>\n                        <td> undefined </td>\n                    </tr>\n                <tbody>\n                <tfoot>\n                    <tr>\n                        <th colspan=\"2\">\n                        Class undefined not found in registry \n                        </th>\n                    </tr>\n                </tfoot>\n                </table>"
      }
     },
     "856f938e1c3845508c2c6615081c3d35": {
      "model_module_version": "^2.1.4",
      "state": {
       "children": [
        "IPY_MODEL_72ecf6621222498f9005234c36c13125",
        "IPY_MODEL_37601256e3774fcbbcde20f200ffbdd6"
       ],
       "value": "<table style=\"width:100%\">\n                <thead>\n                    <tr>\n                        <th colspan=\"2\">\n                        Could not create model:\n                        </th>\n                    </tr>\n                </thead>\n                <tbody>\n                    <tr>\n                        <td>Model name</td>\n                        <td> undefined </td>\n                    </tr>\n                    <tr>\n                        <td>Model module</td>\n                        <td> undefined </td>\n                    </tr>\n                    <tr>\n                        <td>Model module version</td>\n                        <td> undefined </td>\n                    </tr>\n                <tbody>\n                <tfoot>\n                    <tr>\n                        <th colspan=\"2\">\n                        Class undefined not found in registry \n                        </th>\n                    </tr>\n                </tfoot>\n                </table>"
      }
     },
     "8abae633ad1f481e82c38ddda141475a": {
      "model_module_version": "^2.1.4",
      "state": {
       "description": "x",
       "value": "<table style=\"width:100%\">\n                <thead>\n                    <tr>\n                        <th colspan=\"2\">\n                        Could not create model:\n                        </th>\n                    </tr>\n                </thead>\n                <tbody>\n                    <tr>\n                        <td>Model name</td>\n                        <td> undefined </td>\n                    </tr>\n                    <tr>\n                        <td>Model module</td>\n                        <td> undefined </td>\n                    </tr>\n                    <tr>\n                        <td>Model module version</td>\n                        <td> undefined </td>\n                    </tr>\n                <tbody>\n                <tfoot>\n                    <tr>\n                        <th colspan=\"2\">\n                        Class undefined not found in registry \n                        </th>\n                    </tr>\n                </tfoot>\n                </table>"
      }
     },
     "8bf0c22615b44cc0b4992f74fbbe93bb": {
      "model_module_version": "^2.1.4",
      "state": {
       "value": "<table style=\"width:100%\">\n                <thead>\n                    <tr>\n                        <th colspan=\"2\">\n                        Could not create model:\n                        </th>\n                    </tr>\n                </thead>\n                <tbody>\n                    <tr>\n                        <td>Model name</td>\n                        <td> SliderStyleModel </td>\n                    </tr>\n                    <tr>\n                        <td>Model module</td>\n                        <td> @jupyter-widgets/controls </td>\n                    </tr>\n                    <tr>\n                        <td>Model module version</td>\n                        <td> 1.0.0 </td>\n                    </tr>\n                <tbody>\n                <tfoot>\n                    <tr>\n                        <th colspan=\"2\">\n                        Script error for \"@jupyter-widgets/controls\"\nhttp://requirejs.org/docs/errors.html#scripterror\n                        </th>\n                    </tr>\n                </tfoot>\n                </table>"
      }
     },
     "9121ba12a5264db58793c65ad8f0b91c": {
      "model_module_version": "^2.1.4",
      "state": {
       "description": "x",
       "value": "<table style=\"width:100%\">\n                <thead>\n                    <tr>\n                        <th colspan=\"2\">\n                        Could not create model:\n                        </th>\n                    </tr>\n                </thead>\n                <tbody>\n                    <tr>\n                        <td>Model name</td>\n                        <td> undefined </td>\n                    </tr>\n                    <tr>\n                        <td>Model module</td>\n                        <td> undefined </td>\n                    </tr>\n                    <tr>\n                        <td>Model module version</td>\n                        <td> undefined </td>\n                    </tr>\n                <tbody>\n                <tfoot>\n                    <tr>\n                        <th colspan=\"2\">\n                        Class undefined not found in registry \n                        </th>\n                    </tr>\n                </tfoot>\n                </table>"
      }
     },
     "93d51c83ee6c419887052e0b1d75e967": {
      "model_module_version": "^2.1.4",
      "state": {
       "value": "<table style=\"width:100%\">\n                <thead>\n                    <tr>\n                        <th colspan=\"2\">\n                        Could not create model:\n                        </th>\n                    </tr>\n                </thead>\n                <tbody>\n                    <tr>\n                        <td>Model name</td>\n                        <td> VBoxModel </td>\n                    </tr>\n                    <tr>\n                        <td>Model module</td>\n                        <td> @jupyter-widgets/controls </td>\n                    </tr>\n                    <tr>\n                        <td>Model module version</td>\n                        <td> 1.0.0 </td>\n                    </tr>\n                <tbody>\n                <tfoot>\n                    <tr>\n                        <th colspan=\"2\">\n                        Script error for \"@jupyter-widgets/controls\"\nhttp://requirejs.org/docs/errors.html#scripterror\n                        </th>\n                    </tr>\n                </tfoot>\n                </table>"
      }
     },
     "9907702f8ce04a9297548773216509ab": {
      "model_module_version": "^2.1.4",
      "state": {
       "value": "<table style=\"width:100%\">\n                <thead>\n                    <tr>\n                        <th colspan=\"2\">\n                        Could not create model:\n                        </th>\n                    </tr>\n                </thead>\n                <tbody>\n                    <tr>\n                        <td>Model name</td>\n                        <td> IntSliderModel </td>\n                    </tr>\n                    <tr>\n                        <td>Model module</td>\n                        <td> @jupyter-widgets/controls </td>\n                    </tr>\n                    <tr>\n                        <td>Model module version</td>\n                        <td> 1.0.0 </td>\n                    </tr>\n                <tbody>\n                <tfoot>\n                    <tr>\n                        <th colspan=\"2\">\n                        Script error for \"@jupyter-widgets/controls\"\nhttp://requirejs.org/docs/errors.html#scripterror\n                        </th>\n                    </tr>\n                </tfoot>\n                </table>"
      }
     },
     "9db6873e480d4247b9ed559263020539": {
      "model_module_version": "^2.1.4",
      "state": {
       "value": "<table style=\"width:100%\">\n                <thead>\n                    <tr>\n                        <th colspan=\"2\">\n                        Could not create model:\n                        </th>\n                    </tr>\n                </thead>\n                <tbody>\n                    <tr>\n                        <td>Model name</td>\n                        <td> undefined </td>\n                    </tr>\n                    <tr>\n                        <td>Model module</td>\n                        <td> undefined </td>\n                    </tr>\n                    <tr>\n                        <td>Model module version</td>\n                        <td> undefined </td>\n                    </tr>\n                <tbody>\n                <tfoot>\n                    <tr>\n                        <th colspan=\"2\">\n                        Class undefined not found in registry \n                        </th>\n                    </tr>\n                </tfoot>\n                </table>"
      }
     },
     "9dd96180505b4d0f86f509acc1a130d7": {
      "model_module_version": "^2.1.4",
      "state": {
       "value": "<table style=\"width:100%\">\n                <thead>\n                    <tr>\n                        <th colspan=\"2\">\n                        Could not create model:\n                        </th>\n                    </tr>\n                </thead>\n                <tbody>\n                    <tr>\n                        <td>Model name</td>\n                        <td> undefined </td>\n                    </tr>\n                    <tr>\n                        <td>Model module</td>\n                        <td> undefined </td>\n                    </tr>\n                    <tr>\n                        <td>Model module version</td>\n                        <td> undefined </td>\n                    </tr>\n                <tbody>\n                <tfoot>\n                    <tr>\n                        <th colspan=\"2\">\n                        Class undefined not found in registry \n                        </th>\n                    </tr>\n                </tfoot>\n                </table>"
      }
     },
     "9fc33502c9064e4ab64de83aa7fc0fc7": {
      "model_module_version": "^2.1.4",
      "state": {
       "value": "<table style=\"width:100%\">\n                <thead>\n                    <tr>\n                        <th colspan=\"2\">\n                        Could not create model:\n                        </th>\n                    </tr>\n                </thead>\n                <tbody>\n                    <tr>\n                        <td>Model name</td>\n                        <td> undefined </td>\n                    </tr>\n                    <tr>\n                        <td>Model module</td>\n                        <td> undefined </td>\n                    </tr>\n                    <tr>\n                        <td>Model module version</td>\n                        <td> undefined </td>\n                    </tr>\n                <tbody>\n                <tfoot>\n                    <tr>\n                        <th colspan=\"2\">\n                        Class undefined not found in registry \n                        </th>\n                    </tr>\n                </tfoot>\n                </table>"
      }
     },
     "ae3fd633b8374041b9bab779147e480b": {
      "model_module_version": "^2.1.4",
      "state": {
       "value": "<table style=\"width:100%\">\n                <thead>\n                    <tr>\n                        <th colspan=\"2\">\n                        Could not create model:\n                        </th>\n                    </tr>\n                </thead>\n                <tbody>\n                    <tr>\n                        <td>Model name</td>\n                        <td> undefined </td>\n                    </tr>\n                    <tr>\n                        <td>Model module</td>\n                        <td> undefined </td>\n                    </tr>\n                    <tr>\n                        <td>Model module version</td>\n                        <td> undefined </td>\n                    </tr>\n                <tbody>\n                <tfoot>\n                    <tr>\n                        <th colspan=\"2\">\n                        Class undefined not found in registry \n                        </th>\n                    </tr>\n                </tfoot>\n                </table>"
      }
     },
     "b3a9d89c925e433b8cd85c1874381aed": {
      "model_module_version": "^2.1.4",
      "state": {
       "value": "<table style=\"width:100%\">\n                <thead>\n                    <tr>\n                        <th colspan=\"2\">\n                        Could not create model:\n                        </th>\n                    </tr>\n                </thead>\n                <tbody>\n                    <tr>\n                        <td>Model name</td>\n                        <td> LayoutModel </td>\n                    </tr>\n                    <tr>\n                        <td>Model module</td>\n                        <td> @jupyter-widgets/base </td>\n                    </tr>\n                    <tr>\n                        <td>Model module version</td>\n                        <td> 1.0.0 </td>\n                    </tr>\n                <tbody>\n                <tfoot>\n                    <tr>\n                        <th colspan=\"2\">\n                        Script error for \"@jupyter-widgets/base\"\nhttp://requirejs.org/docs/errors.html#scripterror\n                        </th>\n                    </tr>\n                </tfoot>\n                </table>"
      }
     },
     "b7e5568f9b114becab6134ff6af09c26": {
      "model_module_version": "^2.1.4",
      "state": {
       "description": "y",
       "value": "<table style=\"width:100%\">\n                <thead>\n                    <tr>\n                        <th colspan=\"2\">\n                        Could not create model:\n                        </th>\n                    </tr>\n                </thead>\n                <tbody>\n                    <tr>\n                        <td>Model name</td>\n                        <td> undefined </td>\n                    </tr>\n                    <tr>\n                        <td>Model module</td>\n                        <td> undefined </td>\n                    </tr>\n                    <tr>\n                        <td>Model module version</td>\n                        <td> undefined </td>\n                    </tr>\n                <tbody>\n                <tfoot>\n                    <tr>\n                        <th colspan=\"2\">\n                        Class undefined not found in registry \n                        </th>\n                    </tr>\n                </tfoot>\n                </table>"
      }
     },
     "c1d865f09f7f462fa0f6a6dd917f441b": {
      "model_module_version": "^2.1.4",
      "state": {
       "value": "<table style=\"width:100%\">\n                <thead>\n                    <tr>\n                        <th colspan=\"2\">\n                        Could not create model:\n                        </th>\n                    </tr>\n                </thead>\n                <tbody>\n                    <tr>\n                        <td>Model name</td>\n                        <td> undefined </td>\n                    </tr>\n                    <tr>\n                        <td>Model module</td>\n                        <td> undefined </td>\n                    </tr>\n                    <tr>\n                        <td>Model module version</td>\n                        <td> undefined </td>\n                    </tr>\n                <tbody>\n                <tfoot>\n                    <tr>\n                        <th colspan=\"2\">\n                        Class undefined not found in registry \n                        </th>\n                    </tr>\n                </tfoot>\n                </table>"
      }
     },
     "c4c917e01ca54a20bcb89828d5679ba0": {
      "model_module_version": "^2.1.4",
      "state": {
       "value": "<table style=\"width:100%\">\n                <thead>\n                    <tr>\n                        <th colspan=\"2\">\n                        Could not create model:\n                        </th>\n                    </tr>\n                </thead>\n                <tbody>\n                    <tr>\n                        <td>Model name</td>\n                        <td> OutputModel </td>\n                    </tr>\n                    <tr>\n                        <td>Model module</td>\n                        <td> @jupyter-widgets/output </td>\n                    </tr>\n                    <tr>\n                        <td>Model module version</td>\n                        <td> 1.0.0 </td>\n                    </tr>\n                <tbody>\n                <tfoot>\n                    <tr>\n                        <th colspan=\"2\">\n                        Script error for \"@jupyter-widgets/output\"\nhttp://requirejs.org/docs/errors.html#scripterror\n                        </th>\n                    </tr>\n                </tfoot>\n                </table>"
      }
     },
     "c4cdb96ddaf946a68d62aa6ebf606444": {
      "model_module_version": "^2.1.4",
      "state": {
       "msg_id": "",
       "value": "<table style=\"width:100%\">\n                <thead>\n                    <tr>\n                        <th colspan=\"2\">\n                        Could not create model:\n                        </th>\n                    </tr>\n                </thead>\n                <tbody>\n                    <tr>\n                        <td>Model name</td>\n                        <td> undefined </td>\n                    </tr>\n                    <tr>\n                        <td>Model module</td>\n                        <td> undefined </td>\n                    </tr>\n                    <tr>\n                        <td>Model module version</td>\n                        <td> undefined </td>\n                    </tr>\n                <tbody>\n                <tfoot>\n                    <tr>\n                        <th colspan=\"2\">\n                        Class undefined not found in registry \n                        </th>\n                    </tr>\n                </tfoot>\n                </table>"
      }
     },
     "c88aba80643a4de283d629931db6014e": {
      "model_module_version": "^2.1.4",
      "state": {
       "value": "<table style=\"width:100%\">\n                <thead>\n                    <tr>\n                        <th colspan=\"2\">\n                        Could not create model:\n                        </th>\n                    </tr>\n                </thead>\n                <tbody>\n                    <tr>\n                        <td>Model name</td>\n                        <td> undefined </td>\n                    </tr>\n                    <tr>\n                        <td>Model module</td>\n                        <td> undefined </td>\n                    </tr>\n                    <tr>\n                        <td>Model module version</td>\n                        <td> undefined </td>\n                    </tr>\n                <tbody>\n                <tfoot>\n                    <tr>\n                        <th colspan=\"2\">\n                        Class undefined not found in registry \n                        </th>\n                    </tr>\n                </tfoot>\n                </table>"
      }
     },
     "cb6971f57e2d4bc39c85a666e04251bd": {
      "model_module_version": "^2.1.4",
      "state": {
       "value": "<table style=\"width:100%\">\n                <thead>\n                    <tr>\n                        <th colspan=\"2\">\n                        Could not create model:\n                        </th>\n                    </tr>\n                </thead>\n                <tbody>\n                    <tr>\n                        <td>Model name</td>\n                        <td> undefined </td>\n                    </tr>\n                    <tr>\n                        <td>Model module</td>\n                        <td> undefined </td>\n                    </tr>\n                    <tr>\n                        <td>Model module version</td>\n                        <td> undefined </td>\n                    </tr>\n                <tbody>\n                <tfoot>\n                    <tr>\n                        <th colspan=\"2\">\n                        Class undefined not found in registry \n                        </th>\n                    </tr>\n                </tfoot>\n                </table>"
      }
     },
     "e4fd2b9efa4843689587e24302a444a7": {
      "model_module_version": "^2.1.4",
      "state": {
       "children": [
        "IPY_MODEL_9121ba12a5264db58793c65ad8f0b91c",
        "IPY_MODEL_c4cdb96ddaf946a68d62aa6ebf606444"
       ],
       "value": "<table style=\"width:100%\">\n                <thead>\n                    <tr>\n                        <th colspan=\"2\">\n                        Could not create model:\n                        </th>\n                    </tr>\n                </thead>\n                <tbody>\n                    <tr>\n                        <td>Model name</td>\n                        <td> undefined </td>\n                    </tr>\n                    <tr>\n                        <td>Model module</td>\n                        <td> undefined </td>\n                    </tr>\n                    <tr>\n                        <td>Model module version</td>\n                        <td> undefined </td>\n                    </tr>\n                <tbody>\n                <tfoot>\n                    <tr>\n                        <th colspan=\"2\">\n                        Class undefined not found in registry \n                        </th>\n                    </tr>\n                </tfoot>\n                </table>"
      }
     },
     "eed16f6b31e24137aaf2195e2dbc7d9b": {
      "model_module_version": "^2.1.4",
      "state": {
       "value": "<table style=\"width:100%\">\n                <thead>\n                    <tr>\n                        <th colspan=\"2\">\n                        Could not create model:\n                        </th>\n                    </tr>\n                </thead>\n                <tbody>\n                    <tr>\n                        <td>Model name</td>\n                        <td> undefined </td>\n                    </tr>\n                    <tr>\n                        <td>Model module</td>\n                        <td> undefined </td>\n                    </tr>\n                    <tr>\n                        <td>Model module version</td>\n                        <td> undefined </td>\n                    </tr>\n                <tbody>\n                <tfoot>\n                    <tr>\n                        <th colspan=\"2\">\n                        Class undefined not found in registry \n                        </th>\n                    </tr>\n                </tfoot>\n                </table>"
      }
     },
     "f3b3105276784a35be7f7183bbb79a4d": {
      "model_module_version": "^2.1.4",
      "state": {
       "value": "<table style=\"width:100%\">\n                <thead>\n                    <tr>\n                        <th colspan=\"2\">\n                        Could not create model:\n                        </th>\n                    </tr>\n                </thead>\n                <tbody>\n                    <tr>\n                        <td>Model name</td>\n                        <td> undefined </td>\n                    </tr>\n                    <tr>\n                        <td>Model module</td>\n                        <td> undefined </td>\n                    </tr>\n                    <tr>\n                        <td>Model module version</td>\n                        <td> undefined </td>\n                    </tr>\n                <tbody>\n                <tfoot>\n                    <tr>\n                        <th colspan=\"2\">\n                        Class undefined not found in registry \n                        </th>\n                    </tr>\n                </tfoot>\n                </table>"
      }
     },
     "fe762ce46d2d4d05a805d69d09fa1f1c": {
      "model_module_version": "^2.1.4",
      "state": {
       "value": "<table style=\"width:100%\">\n                <thead>\n                    <tr>\n                        <th colspan=\"2\">\n                        Could not create model:\n                        </th>\n                    </tr>\n                </thead>\n                <tbody>\n                    <tr>\n                        <td>Model name</td>\n                        <td> undefined </td>\n                    </tr>\n                    <tr>\n                        <td>Model module</td>\n                        <td> undefined </td>\n                    </tr>\n                    <tr>\n                        <td>Model module version</td>\n                        <td> undefined </td>\n                    </tr>\n                <tbody>\n                <tfoot>\n                    <tr>\n                        <th colspan=\"2\">\n                        Class undefined not found in registry \n                        </th>\n                    </tr>\n                </tfoot>\n                </table>"
      }
     }
    },
    "version_major": 1,
    "version_minor": 0
   }
  }
 },
 "nbformat": 4,
 "nbformat_minor": 2
}
